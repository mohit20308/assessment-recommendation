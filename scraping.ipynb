{
 "cells": [
  {
   "cell_type": "markdown",
   "id": "ba84d447",
   "metadata": {},
   "source": [
    "# Assessment Recommendation System"
   ]
  },
  {
   "cell_type": "markdown",
   "id": "28de96dd",
   "metadata": {},
   "source": [
    "## Importing Libraries"
   ]
  },
  {
   "cell_type": "code",
   "execution_count": 163,
   "id": "da1052b7",
   "metadata": {},
   "outputs": [],
   "source": [
    "import requests\n",
    "import pandas as pd\n",
    "from bs4 import BeautifulSoup\n",
    "from tqdm import tqdm\n",
    "from urllib.parse import urlparse, parse_qs\n",
    "import logging\n"
   ]
  },
  {
   "cell_type": "markdown",
   "id": "5ba70706",
   "metadata": {},
   "source": [
    "## Setting Up Logger"
   ]
  },
  {
   "cell_type": "code",
   "execution_count": 175,
   "id": "5e13b30b",
   "metadata": {},
   "outputs": [],
   "source": [
    "logging.basicConfig(level=logging.INFO)\n",
    "logger = logging.getLogger(__name__)\n",
    "\n",
    "console_handler = logging.StreamHandler()\n",
    "formatter = logging.Formatter('%(asctime)s - %(levelname)s - %(message)s', datefmt='%Y-%m-%d %H:%M:%S')\n",
    "console_handler.setFormatter(formatter)\n",
    "logger.addHandler(console_handler)"
   ]
  },
  {
   "cell_type": "code",
   "execution_count": 169,
   "id": "8a272bf7",
   "metadata": {},
   "outputs": [],
   "source": [
    "test_type_map = {\n",
    "    'A': 'Ability & Aptitude',\n",
    "    'B': 'Biodata & Situational Judgement',\n",
    "    'C': 'Competencies',\n",
    "    'D': 'Development & 360',\n",
    "    'E': 'Assessment Exercises',\n",
    "    'K': 'Knowledge & Skills',\n",
    "    'P': 'Personality & Behavior',\n",
    "    'S': 'Simulations'\n",
    "}"
   ]
  },
  {
   "cell_type": "code",
   "execution_count": 170,
   "id": "a32d01d1",
   "metadata": {},
   "outputs": [],
   "source": [
    "def fetch_sub_page_details(url):\n",
    "    \"\"\"\n",
    "    This method fetches description & duration of the assessment \n",
    "    :param url: URL of assessment\n",
    "    :return: A tuple consisting of description and duration\n",
    "    \"\"\"\n",
    "    \n",
    "    sub_url = 'https://www.shl.com' + url\n",
    "        \n",
    "    res = requests.get(sub_url)\n",
    "    soup = BeautifulSoup(res.text, 'html.parser')\n",
    "    description = None\n",
    "    duration = None\n",
    "    \n",
    "    description_tag = soup.find('h4', string = 'Description')\n",
    "    if description_tag:\n",
    "        description = description_tag.find_next_sibling('p').get_text(strip = True)\n",
    "\n",
    "    duration_tag = soup.find('h4', string = 'Assessment length')\n",
    "    if duration_tag:\n",
    "        duration = duration_tag.find_next_sibling('p').get_text(strip = True).split('=')[1].lstrip()\n",
    "        \n",
    "        if 'minutes' in duration:\n",
    "            duration = duration.split(' ')[0]\n",
    "        \n",
    "    else:\n",
    "        duration = 'not given'\n",
    "    \n",
    "    return description, duration"
   ]
  },
  {
   "cell_type": "code",
   "execution_count": 171,
   "id": "eb474e98",
   "metadata": {},
   "outputs": [],
   "source": [
    "def fetch_elements(row):\n",
    "    \n",
    "    \"\"\"\n",
    "    This method fetches data from table row\n",
    "    :param row: Row of table\n",
    "    :return: A list of dictionary where each dictionary contains name, url, remote_support, adaptive_support, test_type\n",
    "             description and duration\n",
    "    \"\"\"\n",
    "    \n",
    "    data_list = []\n",
    "    cols = row.find_all('td')\n",
    "    a_tag = cols[0].find('a')\n",
    "    url = a_tag.get('href')\n",
    "    \n",
    "    description, duration = fetch_sub_page_details(url)\n",
    "    name = a_tag.text.strip()\n",
    "    remote_support = 'no'\n",
    "    adaptive_support = 'no'\n",
    "    if cols[1].find('span', {'class' : 'catalogue__circle -yes'}):\n",
    "        remote_support = 'yes'\n",
    "\n",
    "    if cols[2].find('span', {'class' : 'catalogue__circle -yes'}):\n",
    "        adaptive_support = 'yes'\n",
    "\n",
    "    test_type = ''.join([span_tag.text.strip() for span_tag in cols[3].find_all('span', {'class' : 'product-catalogue__key'})])\n",
    "\n",
    "    data_list.append({\n",
    "        'name': name,\n",
    "        'url' : url,\n",
    "        'remote_support' : remote_support,\n",
    "        'adaptive_support' : adaptive_support,\n",
    "        'test_type' : test_type,\n",
    "        'description' : description,\n",
    "        'duration' : duration\n",
    "    })\n",
    "    return data_list"
   ]
  },
  {
   "cell_type": "code",
   "execution_count": 172,
   "id": "46789933",
   "metadata": {},
   "outputs": [],
   "source": [
    "def pagination(wrapper):\n",
    "    \"\"\"\n",
    "    This method fetches data from pagination container\n",
    "    :param wrapper: A pagination container having unordered list\n",
    "    :return: A dictionary with key type and value as end page\n",
    "    \"\"\"\n",
    "    type_dict = {}\n",
    "    pagination_holder = wrapper.find('ul', {'class': 'pagination'})\n",
    "    \n",
    "    if pagination_holder:\n",
    "        pagination_items = pagination_holder.find_all('li')\n",
    "        if pagination_items:\n",
    "            end_page = int(pagination_items[-2].text.strip())\n",
    "            end_page = end_page * 12 - 12\n",
    "\n",
    "        a_tag = pagination_items[-2].find('a', class_='pagination__link')\n",
    "        if a_tag and 'href' in a_tag.attrs:\n",
    "            href = a_tag['href']\n",
    "            params = parse_qs(urlparse(href).query)\n",
    "            type = int(params.get('type', [None])[0])\n",
    "        type_dict[type] = end_page\n",
    "            \n",
    "    return type_dict"
   ]
  },
  {
   "cell_type": "code",
   "execution_count": 193,
   "id": "6eb8d8fd",
   "metadata": {},
   "outputs": [],
   "source": [
    "def fetch_data():\n",
    "    data_list = []\n",
    "    base_url = 'https://www.shl.com/products/product-catalog/'  \n",
    "    try: \n",
    "        response = requests.get(base_url)\n",
    "\n",
    "        type_dict = {}\n",
    "\n",
    "        if response.status_code == 200:\n",
    "            logger.info(\"URL : \" + base_url)\n",
    "            soup = BeautifulSoup(response.text, 'html.parser')\n",
    "\n",
    "            table_wrapper = soup.find_all('div', {'class' : 'custom__table-wrapper || js-target-table-wrapper'})\n",
    "            for wrapper in table_wrapper:\n",
    "                table = wrapper.find('table')\n",
    "\n",
    "                for row_no, row in enumerate(table.find_all('tr')[1:]):\n",
    "                    data_list.extend(fetch_elements(row))\n",
    "\n",
    "                dict = pagination(wrapper).copy()\n",
    "                type_dict.update(dict)\n",
    "        else:\n",
    "            logger.error(f\"{response.status_code} {response.reason}\")\n",
    "\n",
    "\n",
    "        for type in tqdm(type_dict):\n",
    "            start = 12\n",
    "\n",
    "            while True:\n",
    "                url = base_url + f'?start={start}&type={type}'\n",
    "                logger.info(\"URL : \" + url)\n",
    "                response = requests.get(url)\n",
    "\n",
    "                if response.status_code == 200:\n",
    "                    soup = BeautifulSoup(response.text, 'html.parser')\n",
    "                    wrapper = soup.find('div', {'class' : 'custom__table-wrapper || js-target-table-wrapper'})\n",
    "                    if wrapper:\n",
    "                        table = wrapper.find('table')\n",
    "\n",
    "                        for row_no, row in enumerate(table.find_all('tr')[1:]):\n",
    "                            data_list.extend(fetch_elements(row))\n",
    "                start += 12   \n",
    "\n",
    "                if start > type_dict[type]:\n",
    "                    break \n",
    "\n",
    "        return data_list\n",
    "    \n",
    "    except Exception as e:\n",
    "        logger.error(f\"Exception : {e}\")"
   ]
  },
  {
   "cell_type": "code",
   "execution_count": 195,
   "id": "5d7400cb",
   "metadata": {},
   "outputs": [],
   "source": [
    "data = fetch_data()"
   ]
  },
  {
   "cell_type": "markdown",
   "id": "59389413",
   "metadata": {},
   "source": [
    "## Converting to DataFrame & Saving DataFrame"
   ]
  },
  {
   "cell_type": "code",
   "execution_count": 160,
   "id": "bc41d05f",
   "metadata": {},
   "outputs": [],
   "source": [
    "df = pd.DataFrame(data)\n",
    "df.to_csv('C:\\\\Users\\\\Dell\\\\Desktop\\\\data.csv', index = False)"
   ]
  },
  {
   "cell_type": "markdown",
   "id": "e0dca38e",
   "metadata": {},
   "source": [
    "## Data Sample"
   ]
  },
  {
   "cell_type": "code",
   "execution_count": 186,
   "id": "e4d2e648",
   "metadata": {},
   "outputs": [
    {
     "data": {
      "text/html": [
       "<div>\n",
       "<style scoped>\n",
       "    .dataframe tbody tr th:only-of-type {\n",
       "        vertical-align: middle;\n",
       "    }\n",
       "\n",
       "    .dataframe tbody tr th {\n",
       "        vertical-align: top;\n",
       "    }\n",
       "\n",
       "    .dataframe thead th {\n",
       "        text-align: right;\n",
       "    }\n",
       "</style>\n",
       "<table border=\"1\" class=\"dataframe\">\n",
       "  <thead>\n",
       "    <tr style=\"text-align: right;\">\n",
       "      <th></th>\n",
       "      <th>name</th>\n",
       "      <th>url</th>\n",
       "      <th>remote_support</th>\n",
       "      <th>adaptive_support</th>\n",
       "      <th>test_type</th>\n",
       "      <th>description</th>\n",
       "      <th>duration</th>\n",
       "    </tr>\n",
       "  </thead>\n",
       "  <tbody>\n",
       "    <tr>\n",
       "      <th>0</th>\n",
       "      <td>Account Manager Solution</td>\n",
       "      <td>/products/product-catalog/view/account-manager...</td>\n",
       "      <td>yes</td>\n",
       "      <td>yes</td>\n",
       "      <td>CPAB</td>\n",
       "      <td>The Account Manager solution is an assessment ...</td>\n",
       "      <td>49</td>\n",
       "    </tr>\n",
       "    <tr>\n",
       "      <th>1</th>\n",
       "      <td>Administrative Professional - Short Form</td>\n",
       "      <td>/products/product-catalog/view/administrative-...</td>\n",
       "      <td>yes</td>\n",
       "      <td>yes</td>\n",
       "      <td>AKP</td>\n",
       "      <td>The Administrative Professional solution is fo...</td>\n",
       "      <td>36</td>\n",
       "    </tr>\n",
       "    <tr>\n",
       "      <th>2</th>\n",
       "      <td>Agency Manager Solution</td>\n",
       "      <td>/products/product-catalog/view/agency-manager-...</td>\n",
       "      <td>yes</td>\n",
       "      <td>yes</td>\n",
       "      <td>ABPS</td>\n",
       "      <td>The Agency Manager solution is for mid-level s...</td>\n",
       "      <td>51</td>\n",
       "    </tr>\n",
       "  </tbody>\n",
       "</table>\n",
       "</div>"
      ],
      "text/plain": [
       "                                       name  \\\n",
       "0                  Account Manager Solution   \n",
       "1  Administrative Professional - Short Form   \n",
       "2                   Agency Manager Solution   \n",
       "\n",
       "                                                 url remote_support  \\\n",
       "0  /products/product-catalog/view/account-manager...            yes   \n",
       "1  /products/product-catalog/view/administrative-...            yes   \n",
       "2  /products/product-catalog/view/agency-manager-...            yes   \n",
       "\n",
       "  adaptive_support test_type  \\\n",
       "0              yes      CPAB   \n",
       "1              yes       AKP   \n",
       "2              yes      ABPS   \n",
       "\n",
       "                                         description duration  \n",
       "0  The Account Manager solution is an assessment ...       49  \n",
       "1  The Administrative Professional solution is fo...       36  \n",
       "2  The Agency Manager solution is for mid-level s...       51  "
      ]
     },
     "execution_count": 186,
     "metadata": {},
     "output_type": "execute_result"
    }
   ],
   "source": [
    "df.head(3)"
   ]
  }
 ],
 "metadata": {
  "kernelspec": {
   "display_name": "Python 3",
   "language": "python",
   "name": "python3"
  },
  "language_info": {
   "codemirror_mode": {
    "name": "ipython",
    "version": 3
   },
   "file_extension": ".py",
   "mimetype": "text/x-python",
   "name": "python",
   "nbconvert_exporter": "python",
   "pygments_lexer": "ipython3",
   "version": "3.7.4"
  }
 },
 "nbformat": 4,
 "nbformat_minor": 5
}
